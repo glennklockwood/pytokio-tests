{
 "cells": [
  {
   "cell_type": "code",
   "execution_count": null,
   "metadata": {},
   "outputs": [],
   "source": [
    "%matplotlib inline"
   ]
  },
  {
   "cell_type": "code",
   "execution_count": null,
   "metadata": {},
   "outputs": [],
   "source": [
    "import sys"
   ]
  },
  {
   "cell_type": "code",
   "execution_count": null,
   "metadata": {},
   "outputs": [],
   "source": [
    "sys.path.insert(0, '/global/u2/g/glock/src/git/pytokio-dev')"
   ]
  },
  {
   "cell_type": "code",
   "execution_count": null,
   "metadata": {},
   "outputs": [],
   "source": [
    "import h5py\n",
    "import matplotlib.pyplot\n",
    "import numpy\n",
    "import tokio"
   ]
  },
  {
   "cell_type": "code",
   "execution_count": null,
   "metadata": {},
   "outputs": [],
   "source": [
    "h5lmt = tokio.connectors.hdf5.Hdf5('snx11025_2018-02-09T12:00:00.h5lmt', 'r')\n",
    "lmtdb = h5py.File('snx11025_2018-02-09T12:00:00.hdf5', 'r')\n",
    "MAX = 17280 / 2"
   ]
  },
  {
   "cell_type": "code",
   "execution_count": null,
   "metadata": {},
   "outputs": [],
   "source": [
    "dset_ref = h5lmt['datatargets/readbytes'][1:MAX+1, :]\n",
    "dset_gen = lmtdb['datatargets/readbytes'][:MAX, :]"
   ]
  },
  {
   "cell_type": "code",
   "execution_count": null,
   "metadata": {},
   "outputs": [],
   "source": [
    "dset_ref = h5lmt['dataservers/cpuload'][:MAX, :]\n",
    "dset_gen = lmtdb['dataservers/cpuload'][:MAX, :]"
   ]
  },
  {
   "cell_type": "code",
   "execution_count": null,
   "metadata": {},
   "outputs": [],
   "source": [
    "dset_ref = h5lmt['datatargets/writebytes'][1:MAX+1, :]\n",
    "dset_gen = lmtdb['datatargets/writebytes'][:MAX, :]"
   ]
  },
  {
   "cell_type": "code",
   "execution_count": null,
   "metadata": {
    "scrolled": false
   },
   "outputs": [],
   "source": [
    "print \"Black is true, white is false\"\n",
    "fig, axes = matplotlib.pyplot.subplots(1, 3, figsize=(8,36), sharey=True)\n",
    "mat = [\n",
    "    (dset_ref[:, :] > 0.0).astype('i4'),\n",
    "    (dset_gen[:, :] > 0.0).astype('i4'),\n",
    "    numpy.isclose(dset_gen[:, :], dset_ref[:, :]).astype('i4'),\n",
    "]\n",
    "axes[0].imshow(mat[0], aspect='auto', cmap='binary', vmin=0, vmax=1)\n",
    "axes[0].set_title(\"reference\")\n",
    "axes[1].imshow(mat[1], aspect='auto', cmap='binary', vmin=0, vmax=1)\n",
    "axes[1].set_title(\"generated\")\n",
    "axes[2].imshow(mat[2], aspect='auto', cmap='binary', vmin=0, vmax=1)\n",
    "axes[1].set_title(\"difference\")"
   ]
  },
  {
   "cell_type": "code",
   "execution_count": null,
   "metadata": {},
   "outputs": [],
   "source": [
    "match_matrix = numpy.isclose(dset_gen[:, :], dset_ref[:, :])\n",
    "nmatch = match_matrix.sum()\n",
    "nelements = (match_matrix.shape[0] * match_matrix.shape[1])\n",
    "pct_diff = 100.0 * (1.0 - float(nmatch) / float(nelements))\n",
    "print \"%d values are the same\" % nmatch\n",
    "print \"%d values (%.2f%%) are different\" % (nelements - nmatch, pct_diff)"
   ]
  },
  {
   "cell_type": "code",
   "execution_count": null,
   "metadata": {},
   "outputs": [],
   "source": []
  }
 ],
 "metadata": {
  "kernelspec": {
   "display_name": "Python 2",
   "language": "python",
   "name": "python2"
  },
  "language_info": {
   "codemirror_mode": {
    "name": "ipython",
    "version": 2
   },
   "file_extension": ".py",
   "mimetype": "text/x-python",
   "name": "python",
   "nbconvert_exporter": "python",
   "pygments_lexer": "ipython2",
   "version": "2.7.13"
  }
 },
 "nbformat": 4,
 "nbformat_minor": 2
}
